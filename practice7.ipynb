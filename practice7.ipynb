{
  "nbformat": 4,
  "nbformat_minor": 0,
  "metadata": {
    "colab": {
      "provenance": [],
      "authorship_tag": "ABX9TyPcjkjabzPdHjitcz9m4Ij3",
      "include_colab_link": true
    },
    "kernelspec": {
      "name": "python3",
      "display_name": "Python 3"
    },
    "language_info": {
      "name": "python"
    }
  },
  "cells": [
    {
      "cell_type": "markdown",
      "metadata": {
        "id": "view-in-github",
        "colab_type": "text"
      },
      "source": [
        "<a href=\"https://colab.research.google.com/github/pranav19611/EDS/blob/main/Practice7.ipynb\" target=\"_parent\"><img src=\"https://colab.research.google.com/assets/colab-badge.svg\" alt=\"Open In Colab\"/></a>"
      ]
    },
    {
      "cell_type": "code",
      "source": [
        "import csv\n",
        "\n",
        "# opening the CSV file\n",
        "with open('/content/emp.csv', mode ='r')as file:\n",
        "\n",
        "  # reading the CSV file\n",
        "  csvFile = csv.reader(file)\n",
        "\n",
        "  # displaying the contents of the CSV file\n",
        "  for lines in csvFile:\n",
        "    print(lines)\n",
        ""
      ],
      "metadata": {
        "id": "TGGyLpVIs0CP",
        "colab": {
          "base_uri": "https://localhost:8080/",
          "height": 130
        },
        "outputId": "e12876da-9014-49f8-f81c-e79c0634a46b"
      },
      "execution_count": null,
      "outputs": [
        {
          "output_type": "error",
          "ename": "IndentationError",
          "evalue": "ignored",
          "traceback": [
            "\u001b[0;36m  File \u001b[0;32m\"<ipython-input-1-8de666ab588a>\"\u001b[0;36m, line \u001b[0;32m2\u001b[0m\n\u001b[0;31m    sal=[]\u001b[0m\n\u001b[0m    ^\u001b[0m\n\u001b[0;31mIndentationError\u001b[0m\u001b[0;31m:\u001b[0m unexpected indent\n"
          ]
        }
      ]
    },
    {
      "cell_type": "code",
      "source": [
        "f1=open(\"emp.csv\",\"r\")\n",
        "f2=open(\"sal.csv\",\"r\")\n",
        "f3=open(\"emp_sal.csv\",\"w\")\n",
        "content1=f1.read()\n",
        "content2=f2.read()\n",
        "name=[]\n",
        "sal=[]\n",
        "lines1=content1.split(\"\\n\")\n",
        "lines2=content2.split(\"\\n\")\n",
        "for l1 in lines1:\n",
        "  words1=l1.split(\",\")\n",
        "\n",
        "  for l2 in lines2:\n",
        "    words2=l2.split(\",\")\n",
        "    if(words1[0]==words2[0]):\n",
        "      l1=l1+\",\"+words2[1]+\",\"+words2[1]+\"\\n\"\n",
        "      f3.write(l1)\n",
        "      name.append(words1[1])\n",
        "      sal.append(int(words2[2]))\n",
        "      print(l1)\n",
        "f1.close()\n",
        "f2.close()\n",
        "f3.close()\n",
        "\n",
        "print(name)\n",
        "print(sal)\n",
        "\n",
        "\n"
      ],
      "metadata": {
        "id": "lQ9WBCRE2OXd",
        "colab": {
          "base_uri": "https://localhost:8080/"
        },
        "outputId": "30a0f404-f046-468e-ff84-1cb80069ee17"
      },
      "execution_count": null,
      "outputs": [
        {
          "output_type": "stream",
          "name": "stdout",
          "text": [
            "1,Sanvi,Manager,100000,Manager,Manager\n",
            "\n",
            "2,Mrunmayee,Sr. Manager,95000,Sr. Manager,Sr. Manager\n",
            "\n",
            "3,Jayesh,Manager,80000,Manager,Manager\n",
            "\n",
            "4,Gouri,Sr. Manager,95000,Sr. Manager,Sr. Manager\n",
            "\n",
            "5,Mahesh,Supervisor,500000,Supervisor,Supervisor\n",
            "\n",
            "['Sanvi', 'Mrunmayee', 'Jayesh', 'Gouri', 'Mahesh']\n",
            "[100000, 150000, 90500, 100500, 85000]\n"
          ]
        }
      ]
    },
    {
      "cell_type": "code",
      "source": [
        "import csv\n",
        "def top_5(d3):\n",
        "  d3.sort(key=lambda x: int(x[3]),reverse=True)\n",
        "  print(\"Sorted data:\",d3)\n",
        "\n",
        "  print(\"\\nTop employee 1: \",d3[0][1])\n",
        "  print(\"\\nTop employee 2: \",d3[1][1])\n",
        "  print(\"\\nTop employee 3: \",d3[2][1])\n",
        "  print(\"\\nTop employee 4: \",d3[3][1])\n",
        "  print(\"\\nTop employee 5: \",d3[4][1])\n",
        "\n",
        "f1=open(\"emp.csv\",\"r\")\n",
        "f2=open(\"sal.csv\",\"r\")\n",
        "f3=open(\"emp_sal\",\"w\")\n",
        "\n",
        "d1=list(csv.reader(f1,delimiter=\",\"))\n",
        "d2=list(csv.reader(f2,delimiter=\",\"))\n",
        "\n",
        "print(\"\\nFile 1 contents: \",d1)\n",
        "print(\"\\nFile 2 contents: \",d2)\n",
        "d3=[]\n",
        "for i in range (len(d1)):\n",
        "  d3.append(d1[i]+d2[i])\n",
        "\n",
        "print(d3)\n",
        "cw=csv.writer(f3)\n",
        "cw.writerows(d3)\n",
        "\n",
        "print(max(d3))\n",
        "\n",
        "top_5(d3)\n",
        "f1.close()\n",
        "f2.close()\n",
        "f3.close()\n",
        "\n",
        "\n",
        "\n",
        "\n",
        "\n"
      ],
      "metadata": {
        "id": "AsV5rukSAavd",
        "colab": {
          "base_uri": "https://localhost:8080/"
        },
        "outputId": "bd70d284-72b9-4f67-a8ca-132ca05069d9"
      },
      "execution_count": null,
      "outputs": [
        {
          "output_type": "stream",
          "name": "stdout",
          "text": [
            "\n",
            "File 1 contents:  [['1', 'Sanvi', 'Manager', '100000', '8\\\\12\\\\2004'], ['2', 'Mrunmayee', 'Sr. Manager', '95000', '6\\\\12\\\\2000'], ['3', 'Jayesh', 'Manager', '80000', '12\\\\5\\\\1998'], ['4', 'Gouri', 'Sr. Manager', '95000', '9\\\\4\\\\2000'], ['5', 'Mahesh', 'Supervisor', '500000', '4\\\\5\\\\2006']]\n",
            "\n",
            "File 2 contents:  [['1', 'Manager', '100000'], ['2', 'Sr. Manager', '150000'], ['3', 'Manager', '90500'], ['4', 'Sr. Manager', '100500'], ['5', 'Supervisor', '85000']]\n",
            "[['1', 'Sanvi', 'Manager', '100000', '8\\\\12\\\\2004', '1', 'Manager', '100000'], ['2', 'Mrunmayee', 'Sr. Manager', '95000', '6\\\\12\\\\2000', '2', 'Sr. Manager', '150000'], ['3', 'Jayesh', 'Manager', '80000', '12\\\\5\\\\1998', '3', 'Manager', '90500'], ['4', 'Gouri', 'Sr. Manager', '95000', '9\\\\4\\\\2000', '4', 'Sr. Manager', '100500'], ['5', 'Mahesh', 'Supervisor', '500000', '4\\\\5\\\\2006', '5', 'Supervisor', '85000']]\n",
            "['5', 'Mahesh', 'Supervisor', '500000', '4\\\\5\\\\2006', '5', 'Supervisor', '85000']\n",
            "Sorted data: [['5', 'Mahesh', 'Supervisor', '500000', '4\\\\5\\\\2006', '5', 'Supervisor', '85000'], ['1', 'Sanvi', 'Manager', '100000', '8\\\\12\\\\2004', '1', 'Manager', '100000'], ['2', 'Mrunmayee', 'Sr. Manager', '95000', '6\\\\12\\\\2000', '2', 'Sr. Manager', '150000'], ['4', 'Gouri', 'Sr. Manager', '95000', '9\\\\4\\\\2000', '4', 'Sr. Manager', '100500'], ['3', 'Jayesh', 'Manager', '80000', '12\\\\5\\\\1998', '3', 'Manager', '90500']]\n",
            "\n",
            "Top employee 1:  Mahesh\n",
            "\n",
            "Top employee 2:  Sanvi\n",
            "\n",
            "Top employee 3:  Mrunmayee\n",
            "\n",
            "Top employee 4:  Gouri\n",
            "\n",
            "Top employee 5:  Jayesh\n"
          ]
        }
      ]
    },
    {
      "cell_type": "code",
      "source": [],
      "metadata": {
        "id": "7PrVgvdo5eJO"
      },
      "execution_count": null,
      "outputs": []
    }
  ]
}
