{
  "nbformat": 4,
  "nbformat_minor": 0,
  "metadata": {
    "colab": {
      "provenance": [],
      "authorship_tag": "ABX9TyMZzKn3OZ3kmm4NoSCKvs/S",
      "include_colab_link": true
    },
    "kernelspec": {
      "name": "python3",
      "display_name": "Python 3"
    },
    "language_info": {
      "name": "python"
    }
  },
  "cells": [
    {
      "cell_type": "markdown",
      "metadata": {
        "id": "view-in-github",
        "colab_type": "text"
      },
      "source": [
        "<a href=\"https://colab.research.google.com/github/pranav19611/EDS/blob/main/practice6.ipynb\" target=\"_parent\"><img src=\"https://colab.research.google.com/assets/colab-badge.svg\" alt=\"Open In Colab\"/></a>"
      ]
    },
    {
      "cell_type": "code",
      "execution_count": null,
      "metadata": {
        "colab": {
          "base_uri": "https://localhost:8080/"
        },
        "id": "YjAt0qxRrwKS",
        "outputId": "808f6c38-15a1-4350-d2e5-3ca70cd3a09d"
      },
      "outputs": [
        {
          "output_type": "stream",
          "name": "stdout",
          "text": [
            "I just created a new file through py!\n"
          ]
        },
        {
          "output_type": "execute_result",
          "data": {
            "text/plain": [
              "<function TextIOWrapper.close()>"
            ]
          },
          "metadata": {},
          "execution_count": 7
        }
      ],
      "source": [
        "f=open(\"newfile.txt\",\"x\")\n",
        "f.write(\"I just created a new file through py!\")\n",
        "f.close\n",
        "f=open(\"newfile.txt\",\"r\")\n",
        "print(f.read())"
      ]
    },
    {
      "cell_type": "code",
      "source": [
        "f=open(\"newfile.txt\",\"a\")\n",
        "f.write(\"\\nNew day\\nNew file\\nNew lines\\n;)\")\n",
        "f.close\n",
        "f=open(\"newfile.txt\",\"r\")\n",
        "print(f.read())"
      ],
      "metadata": {
        "colab": {
          "base_uri": "https://localhost:8080/"
        },
        "id": "1LFdzlcyr9f4",
        "outputId": "1c6b3bb6-18fc-4755-c8e6-e7fca3b03f05"
      },
      "execution_count": null,
      "outputs": [
        {
          "output_type": "stream",
          "name": "stdout",
          "text": [
            "I just created a new file through py!New day\n",
            "New file\n",
            "New lines\n",
            "New day\n",
            "New file\n",
            "New lines\n",
            ";)\n",
            "New day\n",
            "New file\n",
            "New lines\n",
            ";)\n"
          ]
        }
      ]
    },
    {
      "cell_type": "code",
      "source": [
        "ename=[]\n",
        "des=[]\n",
        "sal=[]\n",
        "dob=[]\n",
        "f=open(\"EmpInfo1.csv\",\"r\")\n",
        "fc=f.read()\n",
        "print(\"file content\",fc)\n",
        "lines=fc.split(\"\\n\")\n",
        "for l in lines:\n",
        "  words=l.split(\",\")\n",
        "  ename.append(words[0])\n",
        "  des.append(words[1])\n",
        "  sal.append(words[2])\n",
        "  dob.append(words[3])\n",
        "print(\"\\n\\nName:\",ename)\n",
        "print(\"\\n\\nDesignation:\",des)\n",
        "print(\"\\n\\nSalary:\",sal)\n",
        "print(\"\\n\\nDOB:\",dob)\n",
        "print(\"\\nMax salary:\",max(sal))\n",
        "print(\"\\nMin salary:\",min(sal))"
      ],
      "metadata": {
        "colab": {
          "base_uri": "https://localhost:8080/"
        },
        "id": "7F5Y9aNIv3JZ",
        "outputId": "dd13b41f-f0fb-4c3d-b601-fcf75be05479"
      },
      "execution_count": null,
      "outputs": [
        {
          "output_type": "stream",
          "name": "stdout",
          "text": [
            "file content FIRST_NAME,Designation,SALARY,DOB\n",
            "Donald,SH_CLERK,2600,12/2/1987\n",
            "Douglas,SH_CLERK,2600,15-11-1982\n",
            "Jennifer,AD_ASST,4400,22-02-1986\n",
            "Michael,MK_MAN,13000,25-05-1977\n",
            "Pat,MK_REP,6000,4/4/1995\n",
            "Susan,HR_REP,6500,13-02-1989\n",
            "Hermann,PR_REP,10000,6/5/1983\n",
            "Shelley,AC_MGR,12008,11/4/1986\n",
            "William,AC_ACCOUNT,8300,6/1/1995\n",
            "Steven,AD_PRES,24000,21-06-1985\n",
            "Neena,AD_VP,17000,31-07-1978\n",
            "Lex,AD_VP,17000,3/2/1975\n",
            "Alexander,IT_PROG,9000,17-12-1990\n",
            "Bruce,IT_PROG,6000,2/5/1978\n",
            "David,IT_PROG,4800,19-11-1974\n",
            "Valli,IT_PROG,4800,27-08-1972\n",
            "Diana,IT_PROG,4200,26-10-1987\n",
            "Nancy,FI_MGR,12008,31-01-1968\n",
            "Daniel,FI_ACCOUNT,9000,3/10/1968\n",
            "John,FI_ACCOUNT,8200,12/2/1981\n",
            "Ismael,FI_ACCOUNT,7700,7/9/1985\n",
            "Jose Manuel,FI_ACCOUNT,7800,19-06-1983\n",
            "Luis,FI_ACCOUNT,6900,21-11-1962\n",
            "Den,PU_MAN,11000,13-03-1974\n",
            "Alexander,PU_CLERK,3100,30-10-1985\n",
            "Shelli,PU_CLERK,2900,25-01-1967\n",
            "Sigal,PU_CLERK,2800,3/1/1955\n",
            "Guy,PU_CLERK,2600,5/5/1979\n",
            "Karen,PU_CLERK,2500,17-10-1988\n",
            "Matthew,ST_MAN,8000,28-03-1978\n",
            "Adam,ST_MAN,8200,17-11-1953\n",
            "Payam,ST_MAN,7900,28-09-1969\n",
            "Shanta,ST_MAN,6500,2/7/1962\n",
            "Kevin,ST_MAN,5800,20-11-1954\n",
            "Julia,ST_CLERK,3200,12/2/1964\n",
            "Irene,ST_CLERK,2700,4/2/1974\n",
            "James,ST_CLERK,2400,3/2/1975\n",
            "Steven,ST_CLERK,2200,27-07-1974\n",
            "Laura,ST_CLERK,3300,14-10-1972\n",
            "Mozhe,ST_CLERK,2800,5/7/1964\n",
            "James,ST_CLERK,2500,15-11-1988\n",
            "TJ,ST_CLERK,2100,3/9/1988\n",
            "Jason,ST_CLERK,3300,31-10-1986\n",
            "Michael,ST_CLERK,2900,11/6/1972\n",
            "Ki,ST_CLERK,2400,1/3/1977\n",
            "Hazel,ST_CLERK,2200,4/4/1974\n",
            "Renske,ST_CLERK,3600,24-02-1976\n",
            "Stephen,ST_CLERK,3200,18-12-1969\n",
            "John,ST_CLERK,2700,17-02-1975\n",
            "Joshua,ST_CLERK,2500,17-09-1965\n",
            "\n",
            "\n",
            "Name: ['FIRST_NAME', 'Donald', 'Douglas', 'Jennifer', 'Michael', 'Pat', 'Susan', 'Hermann', 'Shelley', 'William', 'Steven', 'Neena', 'Lex', 'Alexander', 'Bruce', 'David', 'Valli', 'Diana', 'Nancy', 'Daniel', 'John', 'Ismael', 'Jose Manuel', 'Luis', 'Den', 'Alexander', 'Shelli', 'Sigal', 'Guy', 'Karen', 'Matthew', 'Adam', 'Payam', 'Shanta', 'Kevin', 'Julia', 'Irene', 'James', 'Steven', 'Laura', 'Mozhe', 'James', 'TJ', 'Jason', 'Michael', 'Ki', 'Hazel', 'Renske', 'Stephen', 'John', 'Joshua']\n",
            "\n",
            "\n",
            "Designation: ['Designation', 'SH_CLERK', 'SH_CLERK', 'AD_ASST', 'MK_MAN', 'MK_REP', 'HR_REP', 'PR_REP', 'AC_MGR', 'AC_ACCOUNT', 'AD_PRES', 'AD_VP', 'AD_VP', 'IT_PROG', 'IT_PROG', 'IT_PROG', 'IT_PROG', 'IT_PROG', 'FI_MGR', 'FI_ACCOUNT', 'FI_ACCOUNT', 'FI_ACCOUNT', 'FI_ACCOUNT', 'FI_ACCOUNT', 'PU_MAN', 'PU_CLERK', 'PU_CLERK', 'PU_CLERK', 'PU_CLERK', 'PU_CLERK', 'ST_MAN', 'ST_MAN', 'ST_MAN', 'ST_MAN', 'ST_MAN', 'ST_CLERK', 'ST_CLERK', 'ST_CLERK', 'ST_CLERK', 'ST_CLERK', 'ST_CLERK', 'ST_CLERK', 'ST_CLERK', 'ST_CLERK', 'ST_CLERK', 'ST_CLERK', 'ST_CLERK', 'ST_CLERK', 'ST_CLERK', 'ST_CLERK', 'ST_CLERK']\n",
            "\n",
            "\n",
            "Salary: ['SALARY', '2600', '2600', '4400', '13000', '6000', '6500', '10000', '12008', '8300', '24000', '17000', '17000', '9000', '6000', '4800', '4800', '4200', '12008', '9000', '8200', '7700', '7800', '6900', '11000', '3100', '2900', '2800', '2600', '2500', '8000', '8200', '7900', '6500', '5800', '3200', '2700', '2400', '2200', '3300', '2800', '2500', '2100', '3300', '2900', '2400', '2200', '3600', '3200', '2700', '2500']\n",
            "\n",
            "\n",
            "DOB: ['DOB', '12/2/1987', '15-11-1982', '22-02-1986', '25-05-1977', '4/4/1995', '13-02-1989', '6/5/1983', '11/4/1986', '6/1/1995', '21-06-1985', '31-07-1978', '3/2/1975', '17-12-1990', '2/5/1978', '19-11-1974', '27-08-1972', '26-10-1987', '31-01-1968', '3/10/1968', '12/2/1981', '7/9/1985', '19-06-1983', '21-11-1962', '13-03-1974', '30-10-1985', '25-01-1967', '3/1/1955', '5/5/1979', '17-10-1988', '28-03-1978', '17-11-1953', '28-09-1969', '2/7/1962', '20-11-1954', '12/2/1964', '4/2/1974', '3/2/1975', '27-07-1974', '14-10-1972', '5/7/1964', '15-11-1988', '3/9/1988', '31-10-1986', '11/6/1972', '1/3/1977', '4/4/1974', '24-02-1976', '18-12-1969', '17-02-1975', '17-09-1965']\n",
            "\n",
            "Max salary: SALARY\n",
            "\n",
            "Min salary: 10000\n"
          ]
        }
      ]
    },
    {
      "cell_type": "code",
      "source": [
        "circum=lambda r:r*3.14*r\n",
        "print(circum(7))"
      ],
      "metadata": {
        "colab": {
          "base_uri": "https://localhost:8080/"
        },
        "id": "sTFzOfBMxvpC",
        "outputId": "c190355f-c579-4e35-93b7-8a25b9d0540f"
      },
      "execution_count": null,
      "outputs": [
        {
          "output_type": "stream",
          "name": "stdout",
          "text": [
            "153.86\n"
          ]
        }
      ]
    },
    {
      "cell_type": "code",
      "source": [
        "x=36\n",
        "def tf():\n",
        "  print(x)\n",
        "tf()"
      ],
      "metadata": {
        "colab": {
          "base_uri": "https://localhost:8080/"
        },
        "id": "5vW5qv2gx5qQ",
        "outputId": "4c464528-55f7-429a-eabb-051d8426a9d9"
      },
      "execution_count": null,
      "outputs": [
        {
          "output_type": "stream",
          "name": "stdout",
          "text": [
            "36\n"
          ]
        }
      ]
    },
    {
      "cell_type": "code",
      "source": [
        "def cia():\n",
        "  kgb=141\n",
        "print(kgb)\n"
      ],
      "metadata": {
        "colab": {
          "base_uri": "https://localhost:8080/",
          "height": 200
        },
        "id": "rqPIqQYL42iR",
        "outputId": "19b6c37b-51e5-4251-e59e-abf80dc9bf32"
      },
      "execution_count": null,
      "outputs": [
        {
          "output_type": "error",
          "ename": "NameError",
          "evalue": "ignored",
          "traceback": [
            "\u001b[0;31m---------------------------------------------------------------------------\u001b[0m",
            "\u001b[0;31mNameError\u001b[0m                                 Traceback (most recent call last)",
            "\u001b[0;32m<ipython-input-17-833e3f08f129>\u001b[0m in \u001b[0;36m<cell line: 3>\u001b[0;34m()\u001b[0m\n\u001b[1;32m      1\u001b[0m \u001b[0;32mdef\u001b[0m \u001b[0mcia\u001b[0m\u001b[0;34m(\u001b[0m\u001b[0;34m)\u001b[0m\u001b[0;34m:\u001b[0m\u001b[0;34m\u001b[0m\u001b[0;34m\u001b[0m\u001b[0m\n\u001b[1;32m      2\u001b[0m   \u001b[0mkgb\u001b[0m\u001b[0;34m=\u001b[0m\u001b[0;36m141\u001b[0m\u001b[0;34m\u001b[0m\u001b[0;34m\u001b[0m\u001b[0m\n\u001b[0;32m----> 3\u001b[0;31m \u001b[0mprint\u001b[0m\u001b[0;34m(\u001b[0m\u001b[0mkgb\u001b[0m\u001b[0;34m)\u001b[0m\u001b[0;34m\u001b[0m\u001b[0;34m\u001b[0m\u001b[0m\n\u001b[0m",
            "\u001b[0;31mNameError\u001b[0m: name 'kgb' is not defined"
          ]
        }
      ]
    },
    {
      "cell_type": "code",
      "source": [
        "def out():\n",
        "  x=\"local\"\n",
        "  def inn():\n",
        "    nonlocal x\n",
        "    x=\"nonlocal\"\n",
        "    print(x)\n",
        "  print(x)\n",
        "  inn()\n",
        "out()"
      ],
      "metadata": {
        "colab": {
          "base_uri": "https://localhost:8080/"
        },
        "id": "Lsh0dqDK5ORv",
        "outputId": "0adaff4f-b7cd-42c1-b52f-70e1a79f5e19"
      },
      "execution_count": null,
      "outputs": [
        {
          "output_type": "stream",
          "name": "stdout",
          "text": [
            "local\n",
            "nonlocal\n"
          ]
        }
      ]
    },
    {
      "cell_type": "code",
      "source": [],
      "metadata": {
        "id": "u--HgcR68NwD"
      },
      "execution_count": null,
      "outputs": []
    }
  ]
}