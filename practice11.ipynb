{
  "nbformat": 4,
  "nbformat_minor": 0,
  "metadata": {
    "colab": {
      "provenance": [],
      "authorship_tag": "ABX9TyOzr2rxe7XIWHZfOObL8u7K",
      "include_colab_link": true
    },
    "kernelspec": {
      "name": "python3",
      "display_name": "Python 3"
    },
    "language_info": {
      "name": "python"
    }
  },
  "cells": [
    {
      "cell_type": "markdown",
      "metadata": {
        "id": "view-in-github",
        "colab_type": "text"
      },
      "source": [
        "<a href=\"https://colab.research.google.com/github/pranav19611/EDS/blob/main/practice11.ipynb\" target=\"_parent\"><img src=\"https://colab.research.google.com/assets/colab-badge.svg\" alt=\"Open In Colab\"/></a>"
      ]
    },
    {
      "cell_type": "code",
      "execution_count": null,
      "metadata": {
        "colab": {
          "base_uri": "https://localhost:8080/"
        },
        "id": "zg_KXx6j6sLH",
        "outputId": "a147fad9-60c7-44c9-db6a-af732ada15f5"
      },
      "outputs": [
        {
          "output_type": "stream",
          "name": "stdout",
          "text": [
            "P00001,Lenovo Laptop,Raka Ele.,Kaustubh Mahajan,Male\n",
            "\n",
            "P00002,Samsung M31,Vijay Sales,Siddhi Kiwale,Female\n",
            "\n",
            "P00003,Realmi 10pro,Gada Ele.,Sanket Kandalkar,Male\n",
            "\n",
            "P00004,Oppo F21,Surya Ele.,Yash Mali,Male\n",
            "\n",
            "P00005,Lenovo Laptop,Raka Ele.,Yash Bagul,Male\n",
            "\n",
            "P00006,Samsung M31,Gada Ele.,Siddhi Kiwale,Female\n",
            "\n",
            "P00007,\"LG TV 32\"\"\",Vijay Sales,Sanket Kandalkar,Male\n",
            "\n",
            "P00008,Oppo F21,Surya Ele.,Kaustubh Mahajan,Male\n",
            "\n",
            "P00009,Lenovo Laptop,Raka Ele.,Yash Mali,Male\n",
            "\n",
            "P00010,Samsung M31,Gada Ele.,Siddhi Kiwale,Female\n",
            "\n",
            "P00011,\"LG TV 32\"\"\",Surya Ele.,Sanket Kandalkar,Male\n",
            "\n",
            "P00012,Lenovo Laptop,Raka Ele.,Kaustubh Mahajan,Male\n",
            "\n",
            "P00013,Samsung M31,Surya Ele.,Yash Mali,Male\n",
            "\n",
            "P00014,Realmi 10pro,Raka Ele.,Siddhi Kiwale,Female\n",
            "\n",
            "P00015,Lenovo Laptop,Gada Ele.,Tanuja Mali,Female\n",
            "\n",
            "P00016,Oppo F21,Vijay Sales,Kaustubh Mahajan,Male\n",
            "\n",
            "P00017,\"LG TV 32\"\"\",Deshmukh sales,Sanket Kandalkar,Male\n",
            "\n",
            "P00018,Lenovo Laptop,Raka Ele.,Siddhi Kiwale,Female\n",
            "\n",
            "P00019,Samsung M31,Deshmukh sales,Kaustubh Mahajan,Male\n",
            "\n",
            "P00020,\"LG TV 32\"\"\",Gada Ele.,Yash Mali,Male\n",
            "\n",
            "<class 'tuple'>\n",
            "\n",
            "Product Details\n",
            " ['Lenovo Laptop', 'Samsung M31', 'Realmi 10pro', 'Oppo F21', 'Lenovo Laptop', 'Samsung M31', '\"LG TV 32\"\"\"', 'Oppo F21', 'Lenovo Laptop', 'Samsung M31', '\"LG TV 32\"\"\"', 'Lenovo Laptop', 'Samsung M31', 'Realmi 10pro', 'Lenovo Laptop', 'Oppo F21', '\"LG TV 32\"\"\"', 'Lenovo Laptop', 'Samsung M31', '\"LG TV 32\"\"\"']\n",
            "Customer Details\n",
            " ('Kaustubh Mahajan', 'Siddhi Kiwale', 'Sanket Kandalkar', 'Yash Mali', 'Yash Bagul', 'Siddhi Kiwale', 'Sanket Kandalkar', 'Kaustubh Mahajan', 'Yash Mali', 'Siddhi Kiwale', 'Sanket Kandalkar', 'Kaustubh Mahajan', 'Yash Mali', 'Siddhi Kiwale', 'Tanuja Mali', 'Kaustubh Mahajan', 'Sanket Kandalkar', 'Siddhi Kiwale', 'Kaustubh Mahajan', 'Yash Mali')\n",
            "Supplier Details\n",
            " {'P00001': 'Raka Ele.', 'P00002': 'Vijay Sales', 'P00003': 'Gada Ele.', 'P00004': 'Surya Ele.', 'P00005': 'Raka Ele.', 'P00006': 'Gada Ele.', 'P00007': 'Vijay Sales', 'P00008': 'Surya Ele.', 'P00009': 'Raka Ele.', 'P00010': 'Gada Ele.', 'P00011': 'Surya Ele.', 'P00012': 'Raka Ele.', 'P00013': 'Surya Ele.', 'P00014': 'Raka Ele.', 'P00015': 'Gada Ele.', 'P00016': 'Vijay Sales', 'P00017': 'Deshmukh sales', 'P00018': 'Raka Ele.', 'P00019': 'Deshmukh sales', 'P00020': 'Gada Ele.'}\n",
            "Gender Details\n",
            " {'Kaustubh Mahajan': 'Male', 'Siddhi Kiwale': 'Female', 'Sanket Kandalkar': 'Male', 'Yash Mali': 'Male', 'Yash Bagul': 'Male', 'Tanuja Mali': 'Female'}"
          ]
        }
      ],
      "source": [
        "#Assignment2\n",
        "productdetails=[]\n",
        "supplier=dict()\n",
        "customer=[]\n",
        "gender={}\n",
        "\n",
        "fp1=open(\"/content/Sales (3).csv\",\"r\")\n",
        "data=fp1.readline()\n",
        "\n",
        "while(True):\n",
        "  data=fp1.readline()\n",
        "  if not data:\n",
        "    break;\n",
        "  print(data)\n",
        "  data=data.replace(\"\\n\",\"\")\n",
        "  temp=data.split(\",\")\n",
        "  productdetails.append(temp[1])\n",
        "  supplier.update({temp[0]:temp[2]})\n",
        "  customer.append(temp[3])\n",
        "  gender.update({temp[3]:temp[4]})\n",
        "\n",
        "fp1.close()\n",
        "customer=tuple(customer)\n",
        "print(type(customer))\n",
        "\n",
        "print(\"\\nProduct Details\\n\",productdetails,end=\"\")\n",
        "print(\"\\nCustomer Details\\n\",customer,end=\"\")\n",
        "print(\"\\nSupplier Details\\n\",supplier,end=\"\")\n",
        "print(\"\\nGender Details\\n\",gender,end=\"\")\n"
      ]
    },
    {
      "cell_type": "code",
      "source": [
        "#MOST SOLD PRODUCT\n",
        "freq={}\n",
        "for item in productdetails:\n",
        "  if item in freq:\n",
        "    freq[item]+=1\n",
        "  else:\n",
        "    freq[item]=1\n",
        "print(freq)\n",
        "marklist=sorted(freq.items(), key=lambda x:x[1],reverse=True)\n",
        "sortdic=dict(marklist)\n",
        "print(\"Descending order: \",sortdic)\n",
        "print(\"Most Sold Product: \",list(sortdic.keys())[0],\"\\nCount: \",list(sortdic.values())[0])\n"
      ],
      "metadata": {
        "colab": {
          "base_uri": "https://localhost:8080/"
        },
        "id": "E7UokrHy_hEC",
        "outputId": "2aa8fb0b-1b65-419a-f7bc-199f3ea3bfe4"
      },
      "execution_count": null,
      "outputs": [
        {
          "output_type": "stream",
          "name": "stdout",
          "text": [
            "{'Lenovo Laptop': 6, 'Samsung M31': 5, 'Realmi 10pro': 2, 'Oppo F21': 3, '\"LG TV 32\"\"\"': 4}\n",
            "Descending order:  {'Lenovo Laptop': 6, 'Samsung M31': 5, '\"LG TV 32\"\"\"': 4, 'Oppo F21': 3, 'Realmi 10pro': 2}\n",
            "Most Sold Product:  Lenovo Laptop \n",
            "Count:  6\n"
          ]
        }
      ]
    },
    {
      "cell_type": "code",
      "source": [
        "#MOST BOUGHT FROM SUPPLIER\n",
        "freq={}\n",
        "for item in supplier.values():\n",
        "  if item in freq:\n",
        "    freq[item]+=1\n",
        "  else:\n",
        "    freq[item]=1\n",
        "print(freq)\n",
        "marklist=sorted(freq.items(), key=lambda x:x[1],reverse=True)\n",
        "sortdic=dict(marklist)\n",
        "print(\"Descending order: \",sortdic)\n",
        "print(\"Most Popoular Supplier: \",list(sortdic.keys())[0],\"\\nCount: \",list(sortdic.values())[0])"
      ],
      "metadata": {
        "colab": {
          "base_uri": "https://localhost:8080/"
        },
        "id": "Qe-nRoN9HPDk",
        "outputId": "ec6855ef-8145-423d-f079-f81f6c710bbb"
      },
      "execution_count": null,
      "outputs": [
        {
          "output_type": "stream",
          "name": "stdout",
          "text": [
            "{'Raka Ele.': 6, 'Vijay Sales': 3, 'Gada Ele.': 5, 'Surya Ele.': 4, 'Deshmukh sales': 2}\n",
            "Descending order:  {'Raka Ele.': 6, 'Gada Ele.': 5, 'Surya Ele.': 4, 'Vijay Sales': 3, 'Deshmukh sales': 2}\n",
            "Most Popoular Supplier:  Raka Ele. \n",
            "Count:  6\n"
          ]
        }
      ]
    },
    {
      "cell_type": "code",
      "source": [
        "#SPENDTHRIFT\n",
        "freq={}\n",
        "for item in customer:\n",
        "  if item in freq:\n",
        "    freq[item]+=1\n",
        "  else:\n",
        "    freq[item]=1\n",
        "print(freq)\n",
        "marklist=sorted(freq.items(), key=lambda x:x[1],reverse=True)\n",
        "sortdic=dict(marklist)\n",
        "print(\"Descending order: \",sortdic)\n",
        "print(\"Most Popoular Buyer: \",list(sortdic.keys())[0],\"\\nCount: \",list(sortdic.values())[0])"
      ],
      "metadata": {
        "colab": {
          "base_uri": "https://localhost:8080/"
        },
        "id": "r80-EvqMKbKj",
        "outputId": "75150e23-203e-4f00-a2f3-9fa04d00cd3d"
      },
      "execution_count": null,
      "outputs": [
        {
          "output_type": "stream",
          "name": "stdout",
          "text": [
            "{'Kaustubh Mahajan': 5, 'Siddhi Kiwale': 5, 'Sanket Kandalkar': 4, 'Yash Mali': 4, 'Yash Bagul': 1, 'Tanuja Mali': 1}\n",
            "Descending order:  {'Kaustubh Mahajan': 5, 'Siddhi Kiwale': 5, 'Sanket Kandalkar': 4, 'Yash Mali': 4, 'Yash Bagul': 1, 'Tanuja Mali': 1}\n",
            "Most Popoular Buyer:  Kaustubh Mahajan \n",
            "Count:  5\n"
          ]
        }
      ]
    },
    {
      "cell_type": "code",
      "source": [
        "#GENDER\n",
        "from collections import Counter\n",
        "counter=dict(Counter(customer))\n",
        "names=list(counter.keys())\n",
        "print(names)\n",
        "male=0\n",
        "female=0\n",
        "\n",
        "for name in names:\n",
        "  if gender[name]==\"Male\":\n",
        "    male=male+1\n",
        "  if gender[name]==\"Female\":\n",
        "    female=female+1\n",
        "print(\"Number of Males: \",male)\n",
        "print(\"Number of Dishwashers: \",female)"
      ],
      "metadata": {
        "colab": {
          "base_uri": "https://localhost:8080/"
        },
        "id": "Slatp9-ALXiL",
        "outputId": "70724f74-f018-49ed-84c9-882c0e91ce92"
      },
      "execution_count": null,
      "outputs": [
        {
          "output_type": "stream",
          "name": "stdout",
          "text": [
            "['Kaustubh Mahajan', 'Siddhi Kiwale', 'Sanket Kandalkar', 'Yash Mali', 'Yash Bagul', 'Tanuja Mali']\n",
            "Number of Males:  4\n",
            "Number of Females:  2\n"
          ]
        }
      ]
    },
    {
      "cell_type": "code",
      "source": [],
      "metadata": {
        "id": "afOyvLf5M1t7"
      },
      "execution_count": null,
      "outputs": []
    }
  ]
}