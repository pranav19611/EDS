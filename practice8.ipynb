{
  "nbformat": 4,
  "nbformat_minor": 0,
  "metadata": {
    "colab": {
      "provenance": [],
      "authorship_tag": "ABX9TyPnBdHR5X3jdKZ6lGzQaoX+",
      "include_colab_link": true
    },
    "kernelspec": {
      "name": "python3",
      "display_name": "Python 3"
    },
    "language_info": {
      "name": "python"
    }
  },
  "cells": [
    {
      "cell_type": "markdown",
      "metadata": {
        "id": "view-in-github",
        "colab_type": "text"
      },
      "source": [
        "<a href=\"https://colab.research.google.com/github/pranav19611/EDS/blob/main/Practice8.ipynb\" target=\"_parent\"><img src=\"https://colab.research.google.com/assets/colab-badge.svg\" alt=\"Open In Colab\"/></a>"
      ]
    },
    {
      "cell_type": "code",
      "execution_count": null,
      "metadata": {
        "colab": {
          "base_uri": "https://localhost:8080/"
        },
        "id": "QHucf7vGx4Xr",
        "outputId": "db408ec4-e3bd-4649-dfde-722def8b67f5"
      },
      "outputs": [
        {
          "output_type": "stream",
          "name": "stdout",
          "text": [
            "\n",
            "File 1 contents:  [['1', 'Sanvi', 'Manager', '100000', '8\\\\12\\\\2004'], ['2', 'Mrunmayee', 'Sr. Manager', '95000', '6\\\\12\\\\2000'], ['3', 'Jayesh', 'Manager', '80000', '12\\\\5\\\\1998'], ['4', 'Gouri', 'Sr. Manager', '95000', '9\\\\4\\\\2000'], ['5', 'Mahesh', 'Supervisor', '500000', '4\\\\5\\\\2006']]\n",
            "\n",
            "File 2 contents:  [['1', 'Manager', '100000'], ['2', 'Sr. Manager', '150000'], ['3', 'Manager', '90500'], ['4', 'Sr. Manager', '100500'], ['5', 'Supervisor', '85000']]\n",
            "[['1', 'Sanvi', 'Manager', '100000', '8\\\\12\\\\2004', '1', 'Manager', '100000'], ['2', 'Mrunmayee', 'Sr. Manager', '95000', '6\\\\12\\\\2000', '2', 'Sr. Manager', '150000'], ['3', 'Jayesh', 'Manager', '80000', '12\\\\5\\\\1998', '3', 'Manager', '90500'], ['4', 'Gouri', 'Sr. Manager', '95000', '9\\\\4\\\\2000', '4', 'Sr. Manager', '100500'], ['5', 'Mahesh', 'Supervisor', '500000', '4\\\\5\\\\2006', '5', 'Supervisor', '85000']]\n",
            "['5', 'Mahesh', 'Supervisor', '500000', '4\\\\5\\\\2006', '5', 'Supervisor', '85000']\n",
            "Sorted data: [['5', 'Mahesh', 'Supervisor', '500000', '4\\\\5\\\\2006', '5', 'Supervisor', '85000'], ['1', 'Sanvi', 'Manager', '100000', '8\\\\12\\\\2004', '1', 'Manager', '100000'], ['2', 'Mrunmayee', 'Sr. Manager', '95000', '6\\\\12\\\\2000', '2', 'Sr. Manager', '150000'], ['4', 'Gouri', 'Sr. Manager', '95000', '9\\\\4\\\\2000', '4', 'Sr. Manager', '100500'], ['3', 'Jayesh', 'Manager', '80000', '12\\\\5\\\\1998', '3', 'Manager', '90500']]\n",
            "\n",
            "Top employee 1:  Mahesh\n",
            "\n",
            "Top employee 2:  Sanvi\n",
            "\n",
            "Top employee 3:  Mrunmayee\n",
            "\n",
            "Top employee 4:  Gouri\n",
            "\n",
            "Top employee 5:  Jayesh\n",
            "\n",
            "Maximum Salary: 500000\n",
            "Minimum Salary: 80000\n",
            "Sum: 870000\n",
            "Average: 174000.0\n"
          ]
        }
      ],
      "source": [
        "import csv\n",
        "def top_5(d3):\n",
        "  d3.sort(key=lambda x: int(x[3]),reverse=True)\n",
        "  print(\"Sorted data:\",d3)\n",
        "\n",
        "  print(\"\\nTop employee 1: \",d3[0][1])\n",
        "  print(\"\\nTop employee 2: \",d3[1][1])\n",
        "  print(\"\\nTop employee 3: \",d3[2][1])\n",
        "  print(\"\\nTop employee 4: \",d3[3][1])\n",
        "  print(\"\\nTop employee 5: \",d3[4][1])\n",
        "\n",
        "f1=open(\"emp.csv\",\"r\")\n",
        "f2=open(\"sal.csv\",\"r\")\n",
        "f3=open(\"emp_sal\",\"w\")\n",
        "\n",
        "d1=list(csv.reader(f1,delimiter=\",\"))\n",
        "d2=list(csv.reader(f2,delimiter=\",\"))\n",
        "\n",
        "print(\"\\nFile 1 contents: \",d1)\n",
        "print(\"\\nFile 2 contents: \",d2)\n",
        "d3=[]\n",
        "for i in range (len(d1)):\n",
        "  d3.append(d1[i]+d2[i])\n",
        "\n",
        "print(d3)\n",
        "cw=csv.writer(f3)\n",
        "cw.writerows(d3)\n",
        "\n",
        "print(max(d3))\n",
        "\n",
        "top_5(d3)\n",
        "f1.close()\n",
        "f2.close()\n",
        "f3.close()\n",
        "sal=[]\n",
        "with open('/content/emp_sal', mode ='r')as file:\n",
        "\n",
        "  csvFile = csv.reader(file)\n",
        "\n",
        "  for lines in csvFile:\n",
        "    sal.append(int(lines[3]))\n",
        "\n",
        "\n",
        "print(\"\\nMaximum Salary:\", max(sal))\n",
        "print(\"Minimum Salary:\", min(sal))\n",
        "print(\"Sum:\",sum(sal))\n",
        "print(\"Average:\",sum(sal)/len(sal))"
      ]
    },
    {
      "cell_type": "code",
      "source": [],
      "metadata": {
        "id": "3RvvbIG5z6HT"
      },
      "execution_count": null,
      "outputs": []
    }
  ]
}
