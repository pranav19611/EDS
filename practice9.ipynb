{
  "nbformat": 4,
  "nbformat_minor": 0,
  "metadata": {
    "colab": {
      "provenance": [],
      "authorship_tag": "ABX9TyOTNfKu2Mxi0h5B1dDe23LQ",
      "include_colab_link": true
    },
    "kernelspec": {
      "name": "python3",
      "display_name": "Python 3"
    },
    "language_info": {
      "name": "python"
    }
  },
  "cells": [
    {
      "cell_type": "markdown",
      "metadata": {
        "id": "view-in-github",
        "colab_type": "text"
      },
      "source": [
        "<a href=\"https://colab.research.google.com/github/pranav19611/EDS/blob/main/practice9.ipynb\" target=\"_parent\"><img src=\"https://colab.research.google.com/assets/colab-badge.svg\" alt=\"Open In Colab\"/></a>"
      ]
    },
    {
      "cell_type": "code",
      "execution_count": null,
      "metadata": {
        "colab": {
          "base_uri": "https://localhost:8080/"
        },
        "id": "T7BkcjC9I1Zd",
        "outputId": "f391eea5-e068-4d15-f56a-35c18be8dd2b"
      },
      "outputs": [
        {
          "output_type": "stream",
          "name": "stdout",
          "text": [
            "20-01-2004\n",
            "29-11-2004\n",
            "13-12-2003\n",
            "28-02-2005\n",
            "01-01-2004\n",
            "[121951.21951219512, 121951.32926829268, 121951.32926829268, 121951.32926829268, 121951.23170731707]\n",
            "Age [19, 18, 19, 18, 19]\n"
          ]
        }
      ],
      "source": [
        "import csv\n",
        "from datetime import date\n",
        "from datetime import datetime\n",
        "\n",
        "def calculateAge(birthDate):\n",
        "  today=date.today()\n",
        "  age=today.year-birthDate.year-((today.month,today.day)<(birthDate.month,birthDate.day))\n",
        "  return age\n",
        "\n",
        "f1=open(\"/content/ndob.csv\",\"r\")\n",
        "\n",
        "data=list(csv.reader(f1))\n",
        "bdate=[]\n",
        "age=[]\n",
        "dollars=[]\n",
        "\n",
        "for i in range(len(data)):\n",
        "  print(data[i][1])\n",
        "  bdate.append(datetime.strptime(data[i][1],'%d-%m-%Y').date())\n",
        "\n",
        "\n",
        "for i in range(len(data)):\n",
        "  age.append(calculateAge(bdate[i]))\n",
        "  dollars.append(float(data[i][2])/82)\n",
        "print((dollars))\n",
        "print(\"Age\",age)\n",
        "\n",
        "f1.close()\n"
      ]
    },
    {
      "cell_type": "code",
      "source": [
        "import csv\n",
        "\n",
        "f1=open(\"stud.csv\",\"r\")\n",
        "f2=open(\"/content/cgpa.csv\",\"r\")\n",
        "f3=open(\"studinfo.csv\",\"w\")\n",
        "\n",
        "d1=list(csv.reader(f1,delimiter=\",\"))\n",
        "d2=list(csv.reader(f2,delimiter=\",\"))\n",
        "\n",
        "print(\"\\nFile 1 contents: \",d1)\n",
        "print(\"\\nFile 2 contents: \",d2)\n",
        "d3=[]\n",
        "for i in range (len(d1)):\n",
        "  d3.append(d1[i]+d2[i])\n",
        "\n",
        "print(d3)\n",
        "cw=csv.writer(f3)\n",
        "cw.writerows(d3)\n",
        "\n",
        "\n",
        "f1.close()\n",
        "f2.close()\n",
        "f3.close()\n",
        "cgpa=[]\n",
        "with open('/content/studinfo.csv', mode ='r')as file:\n",
        "\n",
        "  csvFile = csv.reader(file)\n",
        "\n",
        "  for lines in csvFile:\n",
        "    cgpa.append(float(lines[4]))\n",
        "\n",
        "\n",
        "print(\"\\nMaximum cgpa:\", max(cgpa))\n",
        "print(\"Minimum cgpa:\", min(cgpa))\n",
        "print(\"Sum of cgpa:\",sum(cgpa))\n",
        "print(\"Average cgpa:\",sum(cgpa)/len(cgpa))"
      ],
      "metadata": {
        "colab": {
          "base_uri": "https://localhost:8080/"
        },
        "id": "U3vH0IVrNdpA",
        "outputId": "6152e53e-930f-454c-879d-1ff7d9188cd5"
      },
      "execution_count": null,
      "outputs": [
        {
          "output_type": "stream",
          "name": "stdout",
          "text": [
            "\n",
            "File 1 contents:  [['1', 'Baburao', '101'], ['2', 'Uday', '102'], ['3', 'Shetty', '103'], ['4', 'Circuit', '104'], ['5', 'DD', '105']]\n",
            "\n",
            "File 2 contents:  [['1', '9.95'], ['2', '9.6'], ['3', '8.8'], ['4', '8.2'], ['5', '5.25']]\n",
            "[['1', 'Baburao', '101', '1', '9.95'], ['2', 'Uday', '102', '2', '9.6'], ['3', 'Shetty', '103', '3', '8.8'], ['4', 'Circuit', '104', '4', '8.2'], ['5', 'DD', '105', '5', '5.25']]\n",
            "\n",
            "Maximum cgpa: 9.95\n",
            "Minimum cgpa: 5.25\n",
            "Sum of cgpa: 41.8\n",
            "Average cgpa: 8.36\n"
          ]
        }
      ]
    },
    {
      "cell_type": "code",
      "source": [],
      "metadata": {
        "id": "ImjqTgvhYlXf"
      },
      "execution_count": null,
      "outputs": []
    }
  ]
}