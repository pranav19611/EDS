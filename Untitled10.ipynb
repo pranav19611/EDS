{
  "nbformat": 4,
  "nbformat_minor": 0,
  "metadata": {
    "colab": {
      "provenance": [],
      "include_colab_link": true
    },
    "kernelspec": {
      "name": "python3",
      "display_name": "Python 3"
    },
    "language_info": {
      "name": "python"
    }
  },
  "cells": [
    {
      "cell_type": "markdown",
      "metadata": {
        "id": "view-in-github",
        "colab_type": "text"
      },
      "source": [
        "<a href=\"https://colab.research.google.com/github/pranav19611/EDS/blob/main/Untitled10.ipynb\" target=\"_parent\"><img src=\"https://colab.research.google.com/assets/colab-badge.svg\" alt=\"Open In Colab\"/></a>"
      ]
    },
    {
      "cell_type": "code",
      "execution_count": null,
      "metadata": {
        "colab": {
          "base_uri": "https://localhost:8080/"
        },
        "id": "o9n3UtZ-BNHf",
        "outputId": "2cbe40c3-a860-4275-d87a-34388b8cf347"
      },
      "outputs": [
        {
          "output_type": "stream",
          "name": "stdout",
          "text": [
            "[41 46 69]\n"
          ]
        }
      ],
      "source": [
        "import numpy as np\n",
        "a=np.array([41,42,45,46,69])\n",
        "x=[True, False, False, True, True]\n",
        "newa=a[x]\n",
        "print(newa)"
      ]
    },
    {
      "cell_type": "code",
      "source": [],
      "metadata": {
        "id": "431yNlkytHcM"
      },
      "execution_count": null,
      "outputs": []
    },
    {
      "cell_type": "code",
      "source": [
        "list1=[x for x in range(0,101,2)]\n",
        "x=np.array(list1)\n",
        "print(x)\n",
        "print(type(list1))\n",
        "print(type(x))"
      ],
      "metadata": {
        "colab": {
          "base_uri": "https://localhost:8080/"
        },
        "id": "qhdRsTaxCtVj",
        "outputId": "f7e06c04-9681-4cee-b220-7aa8bc841be4"
      },
      "execution_count": null,
      "outputs": [
        {
          "output_type": "stream",
          "name": "stdout",
          "text": [
            "[  0   2   4   6   8  10  12  14  16  18  20  22  24  26  28  30  32  34\n",
            "  36  38  40  42  44  46  48  50  52  54  56  58  60  62  64  66  68  70\n",
            "  72  74  76  78  80  82  84  86  88  90  92  94  96  98 100]\n",
            "<class 'list'>\n",
            "<class 'numpy.ndarray'>\n"
          ]
        }
      ]
    },
    {
      "cell_type": "code",
      "source": [
        "b=np.arange(69,34,-3).reshape(3,4)\n",
        "print(b)"
      ],
      "metadata": {
        "colab": {
          "base_uri": "https://localhost:8080/"
        },
        "id": "3mUQdt0lEFKp",
        "outputId": "806dc57a-737b-494e-8d8d-17b6874be2a3"
      },
      "execution_count": null,
      "outputs": [
        {
          "output_type": "stream",
          "name": "stdout",
          "text": [
            "[[69 66 63 60]\n",
            " [57 54 51 48]\n",
            " [45 42 39 36]]\n"
          ]
        }
      ]
    },
    {
      "cell_type": "code",
      "source": [
        "n1=np.empty((3,3),int)\n",
        "print(n1)"
      ],
      "metadata": {
        "colab": {
          "base_uri": "https://localhost:8080/"
        },
        "id": "7H0Ql_8PFVpK",
        "outputId": "96141f19-a9a3-44ec-88c5-ac6401eac552"
      },
      "execution_count": null,
      "outputs": [
        {
          "output_type": "stream",
          "name": "stdout",
          "text": [
            "[[       60417920               0 140621572323920]\n",
            " [140621572103024 140621572324000 140621572324080]\n",
            " [140621572324160 140621572324240             144]]\n"
          ]
        }
      ]
    },
    {
      "cell_type": "code",
      "source": [
        "z=np.linspace(0, 100, 11)\n",
        "print(z)"
      ],
      "metadata": {
        "colab": {
          "base_uri": "https://localhost:8080/",
          "height": 253
        },
        "id": "7ENieTSoGMOz",
        "outputId": "8e852601-8d2d-42aa-8787-f66604142f7b"
      },
      "execution_count": null,
      "outputs": [
        {
          "output_type": "error",
          "ename": "NameError",
          "evalue": "ignored",
          "traceback": [
            "\u001b[0;31m---------------------------------------------------------------------------\u001b[0m",
            "\u001b[0;31mNameError\u001b[0m                                 Traceback (most recent call last)",
            "\u001b[0;32m<ipython-input-1-c700e6062e38>\u001b[0m in \u001b[0;36m<cell line: 1>\u001b[0;34m()\u001b[0m\n\u001b[0;32m----> 1\u001b[0;31m \u001b[0mz\u001b[0m\u001b[0;34m=\u001b[0m\u001b[0mnp\u001b[0m\u001b[0;34m.\u001b[0m\u001b[0mlinspace\u001b[0m\u001b[0;34m(\u001b[0m\u001b[0;36m0\u001b[0m\u001b[0;34m,\u001b[0m \u001b[0;36m100\u001b[0m\u001b[0;34m,\u001b[0m \u001b[0;36m11\u001b[0m\u001b[0;34m)\u001b[0m\u001b[0;34m\u001b[0m\u001b[0;34m\u001b[0m\u001b[0m\n\u001b[0m\u001b[1;32m      2\u001b[0m \u001b[0mprint\u001b[0m\u001b[0;34m(\u001b[0m\u001b[0mz\u001b[0m\u001b[0;34m)\u001b[0m\u001b[0;34m\u001b[0m\u001b[0;34m\u001b[0m\u001b[0m\n",
            "\u001b[0;31mNameError\u001b[0m: name 'np' is not defined"
          ]
        }
      ]
    },
    {
      "cell_type": "code",
      "source": [
        "t1=np.where(x%3==0)\n",
        "print(t1)#returns index"
      ],
      "metadata": {
        "colab": {
          "base_uri": "https://localhost:8080/"
        },
        "id": "pqw4E7RMGm95",
        "outputId": "9e626a9a-e151-45f3-902d-051e7b8636bc"
      },
      "execution_count": null,
      "outputs": [
        {
          "output_type": "stream",
          "name": "stdout",
          "text": [
            "(array([ 0,  3,  6,  9, 12, 15, 18, 21, 24, 27, 30, 33, 36, 39, 42, 45, 48]),)\n"
          ]
        }
      ]
    },
    {
      "cell_type": "code",
      "source": [
        "arr=np.array([5,6,7,8,9])\n",
        "x1=np.searchsorted(arr,8)\n",
        "print(x1)"
      ],
      "metadata": {
        "colab": {
          "base_uri": "https://localhost:8080/"
        },
        "id": "bCtxUodQHp3f",
        "outputId": "88adfdf1-6ff4-491f-d05a-011ef4f80355"
      },
      "execution_count": null,
      "outputs": [
        {
          "output_type": "stream",
          "name": "stdout",
          "text": [
            "3\n"
          ]
        }
      ]
    },
    {
      "cell_type": "code",
      "source": [
        "array1=np.array([1,2,3,4,5,6,7,8,9,9])\n",
        "print(np.std(array1))\n",
        "print(np.min(array1))\n",
        "print(np.sum(array1))\n",
        "print(np.median(array1))\n",
        "print(np.mean(array1))\n",
        "from scipy import stats\n",
        "print(\"most freq element: \",stats.mode(array1)[0])\n",
        "print(\"number of occurrences: \",stats.mode(array1)[1])\n",
        "print(np.var(array1))"
      ],
      "metadata": {
        "colab": {
          "base_uri": "https://localhost:8080/"
        },
        "id": "gVe5CbvfIzVA",
        "outputId": "57b585f4-314d-4bdb-9e26-50289a5698ba"
      },
      "execution_count": null,
      "outputs": [
        {
          "output_type": "stream",
          "name": "stdout",
          "text": [
            "2.727636339397171\n",
            "1\n",
            "54\n",
            "5.5\n",
            "5.4\n",
            "most freq element:  [9]\n",
            "number of occurrences:  [2]\n",
            "7.4399999999999995\n"
          ]
        },
        {
          "output_type": "stream",
          "name": "stderr",
          "text": [
            "<ipython-input-44-63937471c49d>:8: FutureWarning: Unlike other reduction functions (e.g. `skew`, `kurtosis`), the default behavior of `mode` typically preserves the axis it acts along. In SciPy 1.11.0, this behavior will change: the default value of `keepdims` will become False, the `axis` over which the statistic is taken will be eliminated, and the value None will no longer be accepted. Set `keepdims` to True or False to avoid this warning.\n",
            "  print(\"most freq element: \",stats.mode(array1)[0])\n",
            "<ipython-input-44-63937471c49d>:9: FutureWarning: Unlike other reduction functions (e.g. `skew`, `kurtosis`), the default behavior of `mode` typically preserves the axis it acts along. In SciPy 1.11.0, this behavior will change: the default value of `keepdims` will become False, the `axis` over which the statistic is taken will be eliminated, and the value None will no longer be accepted. Set `keepdims` to True or False to avoid this warning.\n",
            "  print(\"number of occurrences: \",stats.mode(array1)[1])\n"
          ]
        }
      ]
    },
    {
      "cell_type": "code",
      "source": [
        "a = np.array([[ 0.0,  0.0,  0.0],\n",
        "              [10.0, 10.0, 10.0],\n",
        "              [20.0, 20.0, 20.0],\n",
        "              [30.0, 30.0, 30.0]])\n",
        "b = np.array([1.0, 2.0, 3.0])\n",
        "a + b"
      ],
      "metadata": {
        "colab": {
          "base_uri": "https://localhost:8080/"
        },
        "id": "WogMAP8QLgai",
        "outputId": "09d62d2c-b6f6-488f-9696-dee0fe1ab310"
      },
      "execution_count": null,
      "outputs": [
        {
          "output_type": "execute_result",
          "data": {
            "text/plain": [
              "array([[ 1.,  2.,  3.],\n",
              "       [11., 12., 13.],\n",
              "       [21., 22., 23.],\n",
              "       [31., 32., 33.]])"
            ]
          },
          "metadata": {},
          "execution_count": 45
        }
      ]
    },
    {
      "cell_type": "code",
      "source": [
        "arr3=np.loadtxt(\"/content/stud_placement.csv\", delimiter=',', dtype=str, skiprows=1)\n",
        "print(arr3)\n",
        "sal=[]\n",
        "for i in arr3:\n",
        "  sal.append((i[3]))\n",
        "print(\"\\n\",sal)\n",
        "sal1=np.array(sal)\n",
        "print(max(sal1))\n",
        "print(min(sal1))"
      ],
      "metadata": {
        "colab": {
          "base_uri": "https://localhost:8080/"
        },
        "id": "9d2p_gOBTWng",
        "outputId": "21995e47-11c0-4806-b9de-95f95219f213"
      },
      "execution_count": null,
      "outputs": [
        {
          "output_type": "stream",
          "name": "stdout",
          "text": [
            "[['1' 'Infosys' 'Data Analyst' '10.2']\n",
            " ['2' 'TCS' 'Java Developer' '9.6']\n",
            " ['3' 'TCS' 'Data Scientist' '12.60']\n",
            " ['4' 'Infosys' 'Data Analyst' '10.2']\n",
            " ['5' 'Oracle' 'Java Developer' '9.6']\n",
            " ['6' 'Oracle' 'Data Scientist' '12.60']\n",
            " ['7' 'TCS' 'Tester' '6.50']\n",
            " ['8' 'Infosys' 'Tester' '6.51']\n",
            " ['9' 'Mindtree' 'Database Admin' '8.30']\n",
            " ['10' 'Mindtree' 'Database Admin' '8.31']]\n",
            "\n",
            " ['10.2', '9.6', '12.60', '10.2', '9.6', '12.60', '6.50', '6.51', '8.30', '8.31']\n",
            "9.6\n",
            "10.2\n"
          ]
        }
      ]
    },
    {
      "cell_type": "code",
      "source": [],
      "metadata": {
        "id": "_bP6pLQETp1A"
      },
      "execution_count": null,
      "outputs": []
    }
  ]
}