{
  "nbformat": 4,
  "nbformat_minor": 0,
  "metadata": {
    "colab": {
      "provenance": [],
      "authorship_tag": "ABX9TyOrPG/Xk5f+vyDYZ61gJ1DP",
      "include_colab_link": true
    },
    "kernelspec": {
      "name": "python3",
      "display_name": "Python 3"
    },
    "language_info": {
      "name": "python"
    }
  },
  "cells": [
    {
      "cell_type": "markdown",
      "metadata": {
        "id": "view-in-github",
        "colab_type": "text"
      },
      "source": [
        "<a href=\"https://colab.research.google.com/github/pranav19611/EDS/blob/main/practice2.ipynb\" target=\"_parent\"><img src=\"https://colab.research.google.com/assets/colab-badge.svg\" alt=\"Open In Colab\"/></a>"
      ]
    },
    {
      "cell_type": "code",
      "source": [
        "b=int(input())\n",
        "c=int(input())\n",
        "d=b+c\n",
        "print(d)"
      ],
      "metadata": {
        "colab": {
          "base_uri": "https://localhost:8080/"
        },
        "id": "MPTDoVGFluwv",
        "outputId": "66f8d3f3-2fe2-4908-961f-b0e845a3d109"
      },
      "execution_count": null,
      "outputs": [
        {
          "output_type": "stream",
          "name": "stdout",
          "text": [
            "6\n",
            "9\n",
            "15\n"
          ]
        }
      ]
    },
    {
      "cell_type": "code",
      "source": [
        "a=int(input(\"Enter a number: \"))\n",
        "if(a%5==0):\n",
        "    print(a,\"is divisible by 5\")\n",
        "else:\n",
        "   print(a,\"is not divisible by 5\")\n"
      ],
      "metadata": {
        "colab": {
          "base_uri": "https://localhost:8080/"
        },
        "id": "q3CAKEocoSc8",
        "outputId": "4155ecfc-a55d-4126-9021-fc4c3147c7b3"
      },
      "execution_count": null,
      "outputs": [
        {
          "output_type": "stream",
          "name": "stdout",
          "text": [
            "Enter a number: 20\n",
            "20 is divisible by 5\n"
          ]
        }
      ]
    },
    {
      "cell_type": "code",
      "source": [
        "per=int(input(\"Enter your percentage: \"))\n",
        "if(per>75):\n",
        "  print(\"Distinction\")\n",
        "elif(per>=60)and(per<75):\n",
        "  print(\"First Class\")\n",
        "elif(per>=50)and(per<60):\n",
        "  print(\"Second Class\")\n",
        "elif(per>=40)and(per<50):\n",
        "  print(\"Third Class\")\n",
        "else:\n",
        "  print(\"See you at retest!\")\n"
      ],
      "metadata": {
        "colab": {
          "base_uri": "https://localhost:8080/"
        },
        "id": "H9eMbz7bpg11",
        "outputId": "18208215-0c96-4e1a-f8f3-2e4e82f3b15e"
      },
      "execution_count": null,
      "outputs": [
        {
          "output_type": "stream",
          "name": "stdout",
          "text": [
            "Enter your percentage: 38\n",
            "See you at retest!\n"
          ]
        }
      ]
    },
    {
      "cell_type": "code",
      "source": [
        "i=0\n",
        "n=int(input(\"Enter the range: \"))\n",
        "while(i<=n):\n",
        "  print(i)\n",
        "  i+=1\n",
        "else:\n",
        "  print(\"Loop is over\")\n"
      ],
      "metadata": {
        "colab": {
          "base_uri": "https://localhost:8080/"
        },
        "id": "ufT5gFbWvqg-",
        "outputId": "06c6ba3f-7a31-4dee-c7cc-ed380ecd66ac"
      },
      "execution_count": null,
      "outputs": [
        {
          "output_type": "stream",
          "name": "stdout",
          "text": [
            "Enter the range: 5\n",
            "0\n",
            "1\n",
            "2\n",
            "3\n",
            "4\n",
            "5\n",
            "Loop is over\n"
          ]
        }
      ]
    },
    {
      "cell_type": "code",
      "source": [
        "for i in range(0,11,1):\n",
        "  print(i*i)\n"
      ],
      "metadata": {
        "colab": {
          "base_uri": "https://localhost:8080/"
        },
        "id": "O_F8_nE93-nw",
        "outputId": "3ac163f1-e7c8-4d65-b05e-0b7869ecb856"
      },
      "execution_count": null,
      "outputs": [
        {
          "output_type": "stream",
          "name": "stdout",
          "text": [
            "0\n",
            "1\n",
            "4\n",
            "9\n",
            "16\n",
            "25\n",
            "36\n",
            "49\n",
            "64\n",
            "81\n",
            "100\n"
          ]
        }
      ]
    },
    {
      "cell_type": "code",
      "source": [
        "for i in range(10,31,1):\n",
        "  if(i%2!=0):\n",
        "    print(i*i*i)\n",
        ""
      ],
      "metadata": {
        "colab": {
          "base_uri": "https://localhost:8080/"
        },
        "id": "n9XVPkJw5lVl",
        "outputId": "b93ff830-dec2-40c6-b0d9-a16416bfe55b"
      },
      "execution_count": null,
      "outputs": [
        {
          "output_type": "stream",
          "name": "stdout",
          "text": [
            "1331\n",
            "2197\n",
            "3375\n",
            "4913\n",
            "6859\n",
            "9261\n",
            "12167\n",
            "15625\n",
            "19683\n",
            "24389\n"
          ]
        }
      ]
    }
  ]
}