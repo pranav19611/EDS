{
  "nbformat": 4,
  "nbformat_minor": 0,
  "metadata": {
    "colab": {
      "provenance": [],
      "authorship_tag": "ABX9TyM+8rAt3oUwstSf90Szbphl",
      "include_colab_link": true
    },
    "kernelspec": {
      "name": "python3",
      "display_name": "Python 3"
    },
    "language_info": {
      "name": "python"
    }
  },
  "cells": [
    {
      "cell_type": "markdown",
      "metadata": {
        "id": "view-in-github",
        "colab_type": "text"
      },
      "source": [
        "<a href=\"https://colab.research.google.com/github/pranav19611/EDS/blob/main/practice12.ipynb\" target=\"_parent\"><img src=\"https://colab.research.google.com/assets/colab-badge.svg\" alt=\"Open In Colab\"/></a>"
      ]
    },
    {
      "cell_type": "code",
      "execution_count": null,
      "metadata": {
        "colab": {
          "base_uri": "https://localhost:8080/"
        },
        "id": "Gauw6Yi66u1i",
        "outputId": "5bb8592c-fa8f-4af6-a4f1-28670ff53865"
      },
      "outputs": [
        {
          "output_type": "execute_result",
          "data": {
            "text/plain": [
              "array([[2, 3, 5],\n",
              "       [1, 9, 8],\n",
              "       [4, 7, 5]])"
            ]
          },
          "metadata": {},
          "execution_count": 1
        }
      ],
      "source": [
        "import numpy as np\n",
        "\n",
        "arr1=np.array([[2,3,5],[1,9,8],[4,7,5]])\n",
        "arr1"
      ]
    },
    {
      "cell_type": "code",
      "source": [
        "arr2=np.array([[11,56,98],[32,19,44],[66,98,21]])\n",
        "arr2"
      ],
      "metadata": {
        "colab": {
          "base_uri": "https://localhost:8080/"
        },
        "id": "Co2N3-f_-N8Y",
        "outputId": "490bad33-728f-4842-d208-3254f1ce2524"
      },
      "execution_count": null,
      "outputs": [
        {
          "output_type": "execute_result",
          "data": {
            "text/plain": [
              "array([[11, 56, 98],\n",
              "       [32, 19, 44],\n",
              "       [66, 98, 21]])"
            ]
          },
          "metadata": {},
          "execution_count": 2
        }
      ]
    },
    {
      "cell_type": "code",
      "source": [
        "resultarr=np.divide(arr1,arr2)\n",
        "print(resultarr)"
      ],
      "metadata": {
        "colab": {
          "base_uri": "https://localhost:8080/"
        },
        "id": "4ixJPohm-d5S",
        "outputId": "f870a5d9-80ed-430e-8db7-b3c715978dde"
      },
      "execution_count": null,
      "outputs": [
        {
          "output_type": "stream",
          "name": "stdout",
          "text": [
            "[[0.18181818 0.05357143 0.05102041]\n",
            " [0.03125    0.47368421 0.18181818]\n",
            " [0.06060606 0.07142857 0.23809524]]\n"
          ]
        }
      ]
    },
    {
      "cell_type": "code",
      "source": [
        "resultmulti=np.multiply(arr1,arr2)\n",
        "print(resultmulti)"
      ],
      "metadata": {
        "colab": {
          "base_uri": "https://localhost:8080/"
        },
        "id": "5WjpyhkLAL6H",
        "outputId": "7f485a94-e1bf-49be-81cc-60e3942bf5aa"
      },
      "execution_count": null,
      "outputs": [
        {
          "output_type": "stream",
          "name": "stdout",
          "text": [
            "[[ 22 168 490]\n",
            " [ 32 171 352]\n",
            " [264 686 105]]\n"
          ]
        }
      ]
    },
    {
      "cell_type": "code",
      "source": [
        "resultadd=np.add(arr1,arr2)\n",
        "print(resultadd)"
      ],
      "metadata": {
        "colab": {
          "base_uri": "https://localhost:8080/"
        },
        "id": "pwPgM4wsAaL1",
        "outputId": "6a79c16f-c9af-4d7b-dadd-33b2b108c8e4"
      },
      "execution_count": null,
      "outputs": [
        {
          "output_type": "stream",
          "name": "stdout",
          "text": [
            "[[ 13  59 103]\n",
            " [ 33  28  52]\n",
            " [ 70 105  26]]\n"
          ]
        }
      ]
    },
    {
      "cell_type": "code",
      "source": [
        "c=np.stack((arr1,arr2),axis=0)\n",
        "print(c)"
      ],
      "metadata": {
        "colab": {
          "base_uri": "https://localhost:8080/"
        },
        "id": "WY58J2hyAs__",
        "outputId": "7d1478a5-4f08-41c1-8f02-b62f55792870"
      },
      "execution_count": null,
      "outputs": [
        {
          "output_type": "stream",
          "name": "stdout",
          "text": [
            "[[[ 2  3  5]\n",
            "  [ 1  9  8]\n",
            "  [ 4  7  5]]\n",
            "\n",
            " [[11 56 98]\n",
            "  [32 19 44]\n",
            "  [66 98 21]]]\n"
          ]
        }
      ]
    },
    {
      "cell_type": "code",
      "source": [
        "d=np.stack((arr1,arr2),axis=1)\n",
        "print(d)"
      ],
      "metadata": {
        "colab": {
          "base_uri": "https://localhost:8080/"
        },
        "id": "JGDlLfKeFBi1",
        "outputId": "1c493134-7ff4-4468-81b5-3fbe04ba1f30"
      },
      "execution_count": null,
      "outputs": [
        {
          "output_type": "stream",
          "name": "stdout",
          "text": [
            "[[[ 2  3  5]\n",
            "  [11 56 98]]\n",
            "\n",
            " [[ 1  9  8]\n",
            "  [32 19 44]]\n",
            "\n",
            " [[ 4  7  5]\n",
            "  [66 98 21]]]\n"
          ]
        }
      ]
    },
    {
      "cell_type": "code",
      "source": [
        "np.transpose(arr1)\n"
      ],
      "metadata": {
        "colab": {
          "base_uri": "https://localhost:8080/"
        },
        "id": "75xPrPfLFgP3",
        "outputId": "fe17a45d-1f83-4a06-c7da-a5fa39d2ae66"
      },
      "execution_count": null,
      "outputs": [
        {
          "output_type": "execute_result",
          "data": {
            "text/plain": [
              "array([[2, 1, 4],\n",
              "       [3, 9, 7],\n",
              "       [5, 8, 5]])"
            ]
          },
          "metadata": {},
          "execution_count": 12
        }
      ]
    },
    {
      "cell_type": "code",
      "source": [
        "np.transpose(arr2)"
      ],
      "metadata": {
        "colab": {
          "base_uri": "https://localhost:8080/"
        },
        "id": "IOYy7xDqKOF2",
        "outputId": "402a8008-bea5-47c2-ef90-b55487bbf9f6"
      },
      "execution_count": null,
      "outputs": [
        {
          "output_type": "execute_result",
          "data": {
            "text/plain": [
              "array([[11, 32, 66],\n",
              "       [56, 19, 98],\n",
              "       [98, 44, 21]])"
            ]
          },
          "metadata": {},
          "execution_count": 11
        }
      ]
    },
    {
      "cell_type": "code",
      "source": [
        "np.arange(start=3,stop=13,step=3)"
      ],
      "metadata": {
        "colab": {
          "base_uri": "https://localhost:8080/"
        },
        "id": "tO0JKjpkNQg4",
        "outputId": "faaf8609-9db6-4714-d874-131665d2a46e"
      },
      "execution_count": null,
      "outputs": [
        {
          "output_type": "execute_result",
          "data": {
            "text/plain": [
              "array([ 3,  6,  9, 12])"
            ]
          },
          "metadata": {},
          "execution_count": 15
        }
      ]
    },
    {
      "cell_type": "code",
      "source": [
        "print(arr1.shape)"
      ],
      "metadata": {
        "colab": {
          "base_uri": "https://localhost:8080/"
        },
        "id": "PJ7ecmozNcSN",
        "outputId": "154a09a9-ba37-41e5-a288-baff03f07bb6"
      },
      "execution_count": null,
      "outputs": [
        {
          "output_type": "stream",
          "name": "stdout",
          "text": [
            "(3, 3)\n"
          ]
        }
      ]
    },
    {
      "cell_type": "code",
      "source": [
        "arr = np.array([1, 2, 3, 4, 5, 6, 7, 8, 9, 10, 11, 12])\n",
        "\n",
        "newarr = arr.reshape(3, 4)\n",
        "\n",
        "print(newarr)"
      ],
      "metadata": {
        "colab": {
          "base_uri": "https://localhost:8080/"
        },
        "id": "zjDB05J7N5Su",
        "outputId": "ca8f0103-cc16-487d-9871-5cdfc66361b5"
      },
      "execution_count": null,
      "outputs": [
        {
          "output_type": "stream",
          "name": "stdout",
          "text": [
            "[[ 1  2  3  4]\n",
            " [ 5  6  7  8]\n",
            " [ 9 10 11 12]]\n"
          ]
        }
      ]
    },
    {
      "cell_type": "code",
      "source": [],
      "metadata": {
        "id": "yeCxYD5IOPiI"
      },
      "execution_count": null,
      "outputs": []
    }
  ]
}