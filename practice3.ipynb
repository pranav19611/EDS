{
  "nbformat": 4,
  "nbformat_minor": 0,
  "metadata": {
    "colab": {
      "provenance": [],
      "authorship_tag": "ABX9TyPVxZQKMeiD0tsg5d9V8I4P",
      "include_colab_link": true
    },
    "kernelspec": {
      "name": "python3",
      "display_name": "Python 3"
    },
    "language_info": {
      "name": "python"
    }
  },
  "cells": [
    {
      "cell_type": "markdown",
      "metadata": {
        "id": "view-in-github",
        "colab_type": "text"
      },
      "source": [
        "<a href=\"https://colab.research.google.com/github/pranav19611/EDS/blob/main/practice3.ipynb\" target=\"_parent\"><img src=\"https://colab.research.google.com/assets/colab-badge.svg\" alt=\"Open In Colab\"/></a>"
      ]
    },
    {
      "cell_type": "code",
      "execution_count": null,
      "metadata": {
        "colab": {
          "base_uri": "https://localhost:8080/"
        },
        "id": "IPnrVdDPkqMc",
        "outputId": "b1d5540c-120a-4cff-aaf2-79c837836d98"
      },
      "outputs": [
        {
          "output_type": "stream",
          "name": "stdout",
          "text": [
            "[348, 'Pranav']\n",
            "<class 'list'>\n",
            "2\n",
            "[348, 'Pranav', 'Khatavkar']\n"
          ]
        }
      ],
      "source": [
        "l1=[348,\"Pranav\"]\n",
        "l2=[\"Khatavkar\"]\n",
        "\n",
        "print(l1)\n",
        "print(type(l2))\n",
        "print(len(l1))\n",
        "l1.extend(l2)\n",
        "print(l1)"
      ]
    },
    {
      "cell_type": "code",
      "source": [
        "print(\"HEllo\",end=\"World \\n\")\n",
        "print(\"HEllo \\nWorld\")"
      ],
      "metadata": {
        "colab": {
          "base_uri": "https://localhost:8080/"
        },
        "id": "ywkWTvErmKpb",
        "outputId": "aa62cecb-5ae9-4648-ee9f-4737ee011662"
      },
      "execution_count": null,
      "outputs": [
        {
          "output_type": "stream",
          "name": "stdout",
          "text": [
            "HElloWorld \n",
            "HEllo \n",
            "World\n"
          ]
        }
      ]
    },
    {
      "cell_type": "code",
      "source": [
        "n=int(input(\"Enter the range: \"))\n",
        "for a in range(0,n,2):\n",
        "  print(a)\n"
      ],
      "metadata": {
        "colab": {
          "base_uri": "https://localhost:8080/"
        },
        "id": "z5wrrySjntqI",
        "outputId": "364f3c4e-b386-410c-db44-13d4f827ec7f"
      },
      "execution_count": null,
      "outputs": [
        {
          "output_type": "stream",
          "name": "stdout",
          "text": [
            "Enter the range: 6\n",
            "0\n",
            "2\n",
            "4\n"
          ]
        }
      ]
    },
    {
      "cell_type": "code",
      "source": [
        "l=[10,2,5,8,10,20]\n",
        "print(l[2:])\n",
        "print(l[:5])\n",
        "print(l[-3:-1])\n",
        "print(l[:-1])"
      ],
      "metadata": {
        "id": "pdqmd_ecpD2K",
        "colab": {
          "base_uri": "https://localhost:8080/"
        },
        "outputId": "bf0b3e05-3e63-4f03-8fb4-7e428bd25add"
      },
      "execution_count": null,
      "outputs": [
        {
          "output_type": "stream",
          "name": "stdout",
          "text": [
            "[5, 8, 10, 20]\n",
            "[10, 2, 5, 8, 10]\n",
            "[8, 10]\n",
            "[10, 2, 5, 8, 10]\n"
          ]
        }
      ]
    },
    {
      "cell_type": "code",
      "source": [
        "ls=[5,7,9]\n",
        "ls1=[1,3]\n",
        "ls1.extend(ls)\n",
        "print(ls1)\n",
        "ls1.append(11)\n",
        "print(ls1)\n",
        "ls1.insert(6,\"suryansh\")\n",
        "print(ls1)"
      ],
      "metadata": {
        "colab": {
          "base_uri": "https://localhost:8080/"
        },
        "id": "m9fm8tRprV08",
        "outputId": "e16e2914-f033-4721-bd4b-750aaa9e2ecb"
      },
      "execution_count": null,
      "outputs": [
        {
          "output_type": "stream",
          "name": "stdout",
          "text": [
            "[1, 3, 5, 7, 9]\n",
            "[1, 3, 5, 7, 9, 11]\n",
            "[1, 3, 5, 7, 9, 11, 'suryansh']\n"
          ]
        }
      ]
    },
    {
      "cell_type": "code",
      "source": [
        "c3=[\"om\",\"parth\",\"shravani\",\"atul\"]\n",
        "if \"nav\" in c3:\n",
        "  print(\"Yes\")\n",
        "else:\n",
        "  print(\"No\")"
      ],
      "metadata": {
        "colab": {
          "base_uri": "https://localhost:8080/"
        },
        "id": "XJ1HKP-fwa70",
        "outputId": "a8c5a1be-d5e9-40b4-ade9-b2bda080d096"
      },
      "execution_count": null,
      "outputs": [
        {
          "output_type": "stream",
          "name": "stdout",
          "text": [
            "No\n"
          ]
        }
      ]
    },
    {
      "cell_type": "code",
      "source": [
        "for i in c3:\n",
        "  print(i)"
      ],
      "metadata": {
        "colab": {
          "base_uri": "https://localhost:8080/"
        },
        "id": "sqfUdkhj0Czn",
        "outputId": "5a51d781-ab72-4e6c-9319-c82bf213fd0f"
      },
      "execution_count": null,
      "outputs": [
        {
          "output_type": "stream",
          "name": "stdout",
          "text": [
            "om\n",
            "parth\n",
            "shravani\n",
            "atul\n"
          ]
        }
      ]
    },
    {
      "cell_type": "code",
      "source": [
        "newlist=list((\"a\",\"b\",\"c\"))\n",
        "print(newlist)"
      ],
      "metadata": {
        "colab": {
          "base_uri": "https://localhost:8080/"
        },
        "id": "qzAPtRQA0Qne",
        "outputId": "68f46d63-8d61-44a1-9b8a-20b428f48a9a"
      },
      "execution_count": null,
      "outputs": [
        {
          "output_type": "stream",
          "name": "stdout",
          "text": [
            "['a', 'b', 'c']\n"
          ]
        }
      ]
    },
    {
      "cell_type": "code",
      "source": [
        "l[1:3]=6,3\n",
        "print(l)"
      ],
      "metadata": {
        "colab": {
          "base_uri": "https://localhost:8080/"
        },
        "id": "OSyaerJK0eNm",
        "outputId": "aadb6a25-5d3b-4333-8b06-140253389e47"
      },
      "execution_count": null,
      "outputs": [
        {
          "output_type": "stream",
          "name": "stdout",
          "text": [
            "[10, 6, 3, 8, 10, 20]\n"
          ]
        }
      ]
    },
    {
      "cell_type": "code",
      "source": [],
      "metadata": {
        "id": "wRkrIvPi8ew4"
      },
      "execution_count": null,
      "outputs": []
    }
  ]
}