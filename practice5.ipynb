{
  "nbformat": 4,
  "nbformat_minor": 0,
  "metadata": {
    "colab": {
      "provenance": [],
      "authorship_tag": "ABX9TyParVkplN2YN7IGBHosXFG0",
      "include_colab_link": true
    },
    "kernelspec": {
      "name": "python3",
      "display_name": "Python 3"
    },
    "language_info": {
      "name": "python"
    }
  },
  "cells": [
    {
      "cell_type": "markdown",
      "metadata": {
        "id": "view-in-github",
        "colab_type": "text"
      },
      "source": [
        "<a href=\"https://colab.research.google.com/github/pranav19611/EDS/blob/main/practice5.ipynb\" target=\"_parent\"><img src=\"https://colab.research.google.com/assets/colab-badge.svg\" alt=\"Open In Colab\"/></a>"
      ]
    },
    {
      "cell_type": "code",
      "source": [
        "f=open(\"nav.txt\",\"r\")\n",
        "print(f.read())\n",
        "f.close()"
      ],
      "metadata": {
        "colab": {
          "base_uri": "https://localhost:8080/"
        },
        "id": "j9iGsmBjsjpA",
        "outputId": "2d2cdd5d-4f49-4124-9a24-af153c2e7fda"
      },
      "execution_count": null,
      "outputs": [
        {
          "output_type": "stream",
          "name": "stdout",
          "text": [
            "Pranav Khatavkar\n",
            "Learning python and file handling\n",
            "Letss goooo!!!!\n"
          ]
        }
      ]
    },
    {
      "cell_type": "code",
      "source": [
        "f=open(\"nav.txt\",\"a\")\n",
        "f.write(\"Adding some content to the file\")\n",
        "f.close()\n",
        "f=open(\"nav.txt\",\"r\")\n",
        "print(f.read())"
      ],
      "metadata": {
        "colab": {
          "base_uri": "https://localhost:8080/"
        },
        "id": "nrKxRZfisjxS",
        "outputId": "a025c629-e923-4844-ed86-df0ee632fb9f"
      },
      "execution_count": null,
      "outputs": [
        {
          "output_type": "stream",
          "name": "stdout",
          "text": [
            "Pranav Khatavkar\n",
            "Learning python and file handling\n",
            "Letss goooo!!!!Adding some content to the fileAdding some content to the fileAdding some content to the file\n"
          ]
        }
      ]
    },
    {
      "cell_type": "code",
      "source": [
        "f=open(\"nav.txt\",\"a\")\n",
        "f.write(\"\\nSuccessful additions\")\n",
        "f.close()\n",
        "f=open(\"nav.txt\",\"r\")\n",
        "print(f.read())"
      ],
      "metadata": {
        "colab": {
          "base_uri": "https://localhost:8080/"
        },
        "id": "K_GiFhu6zwSW",
        "outputId": "597c5c91-858d-433d-f2a5-3ea851f1c257"
      },
      "execution_count": null,
      "outputs": [
        {
          "output_type": "stream",
          "name": "stdout",
          "text": [
            "Pranav Khatavkar\n",
            "Learning python and file handling\n",
            "Letss goooo!!!!Adding some content to the file\n",
            "Ops!, added 3 times\n",
            "Successful additions\n"
          ]
        }
      ]
    },
    {
      "cell_type": "code",
      "source": [],
      "metadata": {
        "id": "6fQXt_ak1Nnn"
      },
      "execution_count": null,
      "outputs": []
    }
  ]
}